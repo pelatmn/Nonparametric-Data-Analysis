{
 "cells": [
  {
   "cell_type": "code",
   "execution_count": 1,
   "id": "df8e3fed",
   "metadata": {},
   "outputs": [],
   "source": [
    "import numpy as np\n",
    "import pandas as pd\n",
    "\n",
    "veri = pd.read_excel(r'C:\\Users\\Pelin\\Desktop\\bagimli veri2.xlsx')"
   ]
  },
  {
   "cell_type": "code",
   "execution_count": 2,
   "id": "8e4e3691",
   "metadata": {},
   "outputs": [
    {
     "name": "stdout",
     "output_type": "stream",
     "text": [
      "   Katılımcılar  1.Hafta  2.Hafta  3.Hafta  4.Hafta\n",
      "0             1        7        6        8        9\n",
      "1             2        9        8       10        7\n",
      "2             3       20       18       16       17\n",
      "3             4        7        6        8        9\n",
      "4             5        7        8       10       11\n",
      "5             6       10       14       13       11\n",
      "6             7       12       19       11       13\n",
      "7             8        7        4        2        5\n",
      "8             9        8        7        9        5\n",
      "9            10       12       16       14       15\n"
     ]
    }
   ],
   "source": [
    "print(veri)"
   ]
  },
  {
   "cell_type": "code",
   "execution_count": 3,
   "id": "e1d4791e",
   "metadata": {},
   "outputs": [
    {
     "data": {
      "text/plain": [
       "0.0037990862037986517"
      ]
     },
     "execution_count": 3,
     "metadata": {},
     "output_type": "execute_result"
    }
   ],
   "source": [
    "from scipy import stats\n",
    "hafta1=veri[\"1.Hafta\"]\n",
    "shapiro_test = stats.shapiro(hafta1)\n",
    "shapiro_test.pvalue"
   ]
  },
  {
   "cell_type": "code",
   "execution_count": 4,
   "id": "a4a8b288",
   "metadata": {},
   "outputs": [
    {
     "data": {
      "text/plain": [
       "0.0979905053973198"
      ]
     },
     "execution_count": 4,
     "metadata": {},
     "output_type": "execute_result"
    }
   ],
   "source": [
    "from scipy import stats\n",
    "hafta2=veri[\"2.Hafta\"]\n",
    "shapiro_test = stats.shapiro(hafta2)\n",
    "shapiro_test.pvalue"
   ]
  },
  {
   "cell_type": "code",
   "execution_count": 5,
   "id": "cab543df",
   "metadata": {},
   "outputs": [
    {
     "data": {
      "text/plain": [
       "0.6736577153205872"
      ]
     },
     "execution_count": 5,
     "metadata": {},
     "output_type": "execute_result"
    }
   ],
   "source": [
    "from scipy import stats\n",
    "hafta3=veri[\"3.Hafta\"]\n",
    "shapiro_test = stats.shapiro(hafta3)\n",
    "shapiro_test.pvalue"
   ]
  },
  {
   "cell_type": "code",
   "execution_count": 6,
   "id": "51dd1313",
   "metadata": {},
   "outputs": [
    {
     "data": {
      "text/plain": [
       "0.7167389392852783"
      ]
     },
     "execution_count": 6,
     "metadata": {},
     "output_type": "execute_result"
    }
   ],
   "source": [
    "from scipy import stats\n",
    "hafta4=veri[\"4.Hafta\"]\n",
    "shapiro_test = stats.shapiro(hafta4)\n",
    "shapiro_test.pvalue"
   ]
  },
  {
   "cell_type": "code",
   "execution_count": 13,
   "id": "665ba1e8",
   "metadata": {},
   "outputs": [
    {
     "data": {
      "text/plain": [
       "count    10.000000\n",
       "mean      9.900000\n",
       "std       4.067486\n",
       "min       7.000000\n",
       "25%       7.000000\n",
       "50%       8.500000\n",
       "75%      11.500000\n",
       "max      20.000000\n",
       "Name: 1.Hafta, dtype: float64"
      ]
     },
     "execution_count": 13,
     "metadata": {},
     "output_type": "execute_result"
    }
   ],
   "source": [
    "veri.head()\n",
    "\n",
    "veri['1.Hafta'].describe()"
   ]
  },
  {
   "cell_type": "code",
   "execution_count": 14,
   "id": "ca9b476a",
   "metadata": {},
   "outputs": [
    {
     "data": {
      "text/plain": [
       "count    10.000000\n",
       "mean     10.600000\n",
       "std       5.561774\n",
       "min       4.000000\n",
       "25%       6.250000\n",
       "50%       8.000000\n",
       "75%      15.500000\n",
       "max      19.000000\n",
       "Name: 2.Hafta, dtype: float64"
      ]
     },
     "execution_count": 14,
     "metadata": {},
     "output_type": "execute_result"
    }
   ],
   "source": [
    "veri.head()\n",
    "\n",
    "veri['2.Hafta'].describe()"
   ]
  },
  {
   "cell_type": "code",
   "execution_count": 15,
   "id": "57efa7d9",
   "metadata": {},
   "outputs": [
    {
     "data": {
      "text/plain": [
       "count    10.000000\n",
       "mean     10.100000\n",
       "std       3.871549\n",
       "min       2.000000\n",
       "25%       8.250000\n",
       "50%      10.000000\n",
       "75%      12.500000\n",
       "max      16.000000\n",
       "Name: 3.Hafta, dtype: float64"
      ]
     },
     "execution_count": 15,
     "metadata": {},
     "output_type": "execute_result"
    }
   ],
   "source": [
    "veri.head()\n",
    "\n",
    "veri['3.Hafta'].describe()"
   ]
  },
  {
   "cell_type": "code",
   "execution_count": 16,
   "id": "39fed281",
   "metadata": {},
   "outputs": [
    {
     "data": {
      "text/plain": [
       "count    10.000000\n",
       "mean     10.200000\n",
       "std       4.022161\n",
       "min       5.000000\n",
       "25%       7.500000\n",
       "50%      10.000000\n",
       "75%      12.500000\n",
       "max      17.000000\n",
       "Name: 4.Hafta, dtype: float64"
      ]
     },
     "execution_count": 16,
     "metadata": {},
     "output_type": "execute_result"
    }
   ],
   "source": [
    "veri.head()\n",
    "\n",
    "veri['4.Hafta'].describe()"
   ]
  },
  {
   "cell_type": "code",
   "execution_count": 7,
   "id": "fe26dfe4",
   "metadata": {},
   "outputs": [
    {
     "data": {
      "text/plain": [
       "16.544444444444444"
      ]
     },
     "execution_count": 7,
     "metadata": {},
     "output_type": "execute_result"
    }
   ],
   "source": [
    "import statistics\n",
    "\n",
    "statistics.variance(hafta1)"
   ]
  },
  {
   "cell_type": "code",
   "execution_count": 8,
   "id": "765241dd",
   "metadata": {},
   "outputs": [
    {
     "data": {
      "text/plain": [
       "30.933333333333334"
      ]
     },
     "execution_count": 8,
     "metadata": {},
     "output_type": "execute_result"
    }
   ],
   "source": [
    "import statistics\n",
    "\n",
    "statistics.variance(hafta2)"
   ]
  },
  {
   "cell_type": "code",
   "execution_count": 9,
   "id": "49fa1824",
   "metadata": {},
   "outputs": [
    {
     "data": {
      "text/plain": [
       "14.988888888888889"
      ]
     },
     "execution_count": 9,
     "metadata": {},
     "output_type": "execute_result"
    }
   ],
   "source": [
    "import statistics\n",
    "\n",
    "statistics.variance(hafta3)"
   ]
  },
  {
   "cell_type": "code",
   "execution_count": 10,
   "id": "f2a786af",
   "metadata": {},
   "outputs": [
    {
     "data": {
      "text/plain": [
       "16.177777777777777"
      ]
     },
     "execution_count": 10,
     "metadata": {},
     "output_type": "execute_result"
    }
   ],
   "source": [
    "import statistics\n",
    "\n",
    "statistics.variance(hafta4)"
   ]
  },
  {
   "cell_type": "code",
   "execution_count": 14,
   "id": "a32a0c41",
   "metadata": {},
   "outputs": [
    {
     "data": {
      "text/plain": [
       "count    40.000000\n",
       "mean     10.200000\n",
       "std       4.267949\n",
       "min       2.000000\n",
       "25%       7.000000\n",
       "50%       9.000000\n",
       "75%      13.000000\n",
       "max      20.000000\n",
       "dtype: float64"
      ]
     },
     "execution_count": 14,
     "metadata": {},
     "output_type": "execute_result"
    }
   ],
   "source": [
    "import pandas as pd\n",
    "\n",
    "veri = {\n",
    "    '1. Hafta' : [7,9,20,7,7,10,12,7,8,12],\n",
    "    '2. Hafta' : [6,8,18,6,8,14,19,4,7,16],\n",
    "    '3. Hafta' : [8,10,16,8,10,13,11,2,9,14],\n",
    "    '4. Hafta' : [9,7,17,9,11,11,13,5,5,15]\n",
    "}\n",
    "\n",
    "df = pd.DataFrame(veri)\n",
    "birlesik_veri = df.stack().reset_index(drop=True)\n",
    "birlesik_veri.describe()\n"
   ]
  },
  {
   "cell_type": "code",
   "execution_count": 25,
   "id": "ee423467",
   "metadata": {},
   "outputs": [
    {
     "data": {
      "image/png": "[encoded data removed]",
      "text/plain": [
       "<Figure size 432x288 with 1 Axes>"
      ]
     },
     "metadata": {
      "needs_background": "light"
     },
     "output_type": "display_data"
    }
   ],
   "source": [
    "import pylab\n",
    "from scipy import stats \n",
    "\n",
    "stats.probplot(hafta1, dist=\"norm\", plot=pylab)\n",
    "pylab.show()"
   ]
  },
  {
   "cell_type": "code",
   "execution_count": 26,
   "id": "15d7849c",
   "metadata": {},
   "outputs": [
    {
     "data": {
      "image/png": "[encoded data removed]",
      "text/plain": [
       "<Figure size 432x288 with 1 Axes>"
      ]
     },
     "metadata": {
      "needs_background": "light"
     },
     "output_type": "display_data"
    }
   ],
   "source": [
    "import pylab\n",
    "from scipy import stats \n",
    "\n",
    "stats.probplot(hafta2, dist=\"norm\", plot=pylab)\n",
    "pylab.show()"
   ]
  },
  {
   "cell_type": "code",
   "execution_count": 27,
   "id": "eeb5588b",
   "metadata": {},
   "outputs": [
    {
     "data": {
      "image/png": "[encoded data removed]",
      "text/plain": [
       "<Figure size 432x288 with 1 Axes>"
      ]
     },
     "metadata": {
      "needs_background": "light"
     },
     "output_type": "display_data"
    }
   ],
   "source": [
    "import pylab\n",
    "from scipy import stats \n",
    "\n",
    "stats.probplot(hafta3, dist=\"norm\", plot=pylab)\n",
    "pylab.show()"
   ]
  },
  {
   "cell_type": "code",
   "execution_count": 28,
   "id": "1a3be1f0",
   "metadata": {},
   "outputs": [
    {
     "data": {
      "image/png": "[encoded data removed]",
      "text/plain": [
       "<Figure size 432x288 with 1 Axes>"
      ]
     },
     "metadata": {
      "needs_background": "light"
     },
     "output_type": "display_data"
    }
   ],
   "source": [
    "import pylab\n",
    "from scipy import stats \n",
    "\n",
    "stats.probplot(hafta4, dist=\"norm\", plot=pylab)\n",
    "pylab.show()"
   ]
  },
  {
   "cell_type": "code",
   "execution_count": 29,
   "id": "a6c2b9dc",
   "metadata": {},
   "outputs": [
    {
     "data": {
      "text/plain": [
       "(1.6424142493047913, 1.8448131608513911)"
      ]
     },
     "execution_count": 29,
     "metadata": {},
     "output_type": "execute_result"
    }
   ],
   "source": [
    "stats.skew(hafta1) , stats.kurtosis(hafta1)"
   ]
  },
  {
   "cell_type": "code",
   "execution_count": 30,
   "id": "27550a60",
   "metadata": {},
   "outputs": [
    {
     "data": {
      "text/plain": [
       "(0.42937104709598245, -1.4499851367419743)"
      ]
     },
     "execution_count": 30,
     "metadata": {},
     "output_type": "execute_result"
    }
   ],
   "source": [
    "stats.skew(hafta2) , stats.kurtosis(hafta2)"
   ]
  },
  {
   "cell_type": "code",
   "execution_count": 31,
   "id": "caa2c056",
   "metadata": {},
   "outputs": [
    {
     "data": {
      "text/plain": [
       "(-0.5277406550418066, 0.21985590732173543)"
      ]
     },
     "execution_count": 31,
     "metadata": {},
     "output_type": "execute_result"
    }
   ],
   "source": [
    "stats.skew(hafta3) , stats.kurtosis(hafta3)"
   ]
  },
  {
   "cell_type": "code",
   "execution_count": 32,
   "id": "0130c176",
   "metadata": {},
   "outputs": [
    {
     "data": {
      "text/plain": [
       "(0.23500011724315575, -0.9704142011834311)"
      ]
     },
     "execution_count": 32,
     "metadata": {},
     "output_type": "execute_result"
    }
   ],
   "source": [
    "stats.skew(hafta4) , stats.kurtosis(hafta4)"
   ]
  },
  {
   "cell_type": "code",
   "execution_count": 38,
   "id": "5fdf82bc",
   "metadata": {},
   "outputs": [
    {
     "data": {
      "image/png": "[encoded data removed]",
      "text/plain": [
       "<Figure size 432x288 with 1 Axes>"
      ]
     },
     "metadata": {
      "needs_background": "light"
     },
     "output_type": "display_data"
    }
   ],
   "source": [
    "import numpy as np\n",
    "import matplotlib.pyplot as plt\n",
    "\n",
    "plt.hist(hafta1, bins=10, color='lightpink', edgecolor='black')\n",
    "\n",
    "plt.title('Histogram Grafiği')\n",
    "plt.xlabel('Değerler')\n",
    "plt.ylabel('Frekans')\n",
    "\n",
    "plt.show()"
   ]
  },
  {
   "cell_type": "code",
   "execution_count": 39,
   "id": "016bb768",
   "metadata": {},
   "outputs": [
    {
     "data": {
      "image/png": "[encoded data removed]",
      "text/plain": [
       "<Figure size 432x288 with 1 Axes>"
      ]
     },
     "metadata": {
      "needs_background": "light"
     },
     "output_type": "display_data"
    }
   ],
   "source": [
    "import numpy as np\n",
    "import matplotlib.pyplot as plt\n",
    "\n",
    "plt.hist(hafta2, bins=10, color='lightpink', edgecolor='black')\n",
    "\n",
    "plt.title('Histogram Grafiği')\n",
    "plt.xlabel('Değerler')\n",
    "plt.ylabel('Frekans')\n",
    "\n",
    "plt.show()"
   ]
  },
  {
   "cell_type": "code",
   "execution_count": 40,
   "id": "cf5461fe",
   "metadata": {},
   "outputs": [
    {
     "data": {
      "image/png": "[encoded data removed]",
      "text/plain": [
       "<Figure size 432x288 with 1 Axes>"
      ]
     },
     "metadata": {
      "needs_background": "light"
     },
     "output_type": "display_data"
    }
   ],
   "source": [
    "import numpy as np\n",
    "import matplotlib.pyplot as plt\n",
    "\n",
    "plt.hist(hafta3, bins=10, color='lightpink', edgecolor='black')\n",
    "\n",
    "plt.title('Histogram Grafiği')\n",
    "plt.xlabel('Değerler')\n",
    "plt.ylabel('Frekans')\n",
    "\n",
    "plt.show()"
   ]
  },
  {
   "cell_type": "code",
   "execution_count": 41,
   "id": "454c9d35",
   "metadata": {},
   "outputs": [
    {
     "data": {
      "image/png": "[encoded data removed]",
      "text/plain": [
       "<Figure size 432x288 with 1 Axes>"
      ]
     },
     "metadata": {
      "needs_background": "light"
     },
     "output_type": "display_data"
    }
   ],
   "source": [
    "import numpy as np\n",
    "import matplotlib.pyplot as plt\n",
    "\n",
    "plt.hist(hafta4, bins=10, color='lightpink', edgecolor='black')\n",
    "\n",
    "plt.title('Histogram Grafiği')\n",
    "plt.xlabel('Değerler')\n",
    "plt.ylabel('Frekans')\n",
    "\n",
    "plt.show()"
   ]
  },
  {
   "cell_type": "code",
   "execution_count": 37,
   "id": "9c74fd55",
   "metadata": {},
   "outputs": [
    {
     "data": {
      "image/png": "[encoded data removed]",
      "text/plain": [
       "<Figure size 720x360 with 1 Axes>"
      ]
     },
     "metadata": {
      "needs_background": "light"
     },
     "output_type": "display_data"
    }
   ],
   "source": [
    "veri = [hafta1 ,hafta2, hafta3, hafta4]\n",
    "figure = plt.figure(figsize=(10,5))\n",
    "plt.boxplot(veri)\n",
    "plt.title('Tüm Verilerin Box-plot Grafiği')\n",
    "plt.xlabel('Veriler')\n",
    "plt.ylabel('Frekans')\n",
    "plt.show()"
   ]
  },
  {
   "cell_type": "markdown",
   "id": "8cfc7734",
   "metadata": {},
   "source": [
    "# 5.SORU"
   ]
  },
  {
   "cell_type": "code",
   "execution_count": 3,
   "id": "08c93016",
   "metadata": {},
   "outputs": [
    {
     "name": "stdout",
     "output_type": "stream",
     "text": [
      "WilcoxonResult(statistic=25.0, pvalue=0.4228515625)\n"
     ]
    }
   ],
   "source": [
    "import numpy as np\n",
    "from scipy.stats import wilcoxon\n",
    "\n",
    "hafta1 = np.array([7, 9, 20, 7, 7, 10, 12, 7, 8, 12])\n",
    "hafta2 = np.array([6, 8, 18, 6, 8, 14, 19, 4, 7, 16])\n",
    "\n",
    "result = wilcoxon(hafta1, hafta2,\n",
    "                  alternative='less',\n",
    "                  zero_method='zsplit',\n",
    "                  correction=True)\n",
    "print(result)\n"
   ]
  },
  {
   "cell_type": "markdown",
   "id": "f7779de2",
   "metadata": {},
   "source": [
    "# 7.SORU"
   ]
  },
  {
   "cell_type": "code",
   "execution_count": 4,
   "id": "83fcee16",
   "metadata": {},
   "outputs": [
    {
     "data": {
      "text/plain": [
       "FriedmanchisquareResult(statistic=0.47999999999998977, pvalue=0.9232628347180274)"
      ]
     },
     "execution_count": 4,
     "metadata": {},
     "output_type": "execute_result"
    }
   ],
   "source": [
    "from scipy import stats\n",
    "\n",
    "hafta1 = [7,9,20,7,7,10,12,7,8,12]\n",
    "hafta2 = [6,8,18,6,8,14,19,4,7,16]\n",
    "hafta3 =[8,10,16,8,10,13,11,2,9,14]\n",
    "hafta4 = [9,7,17,9,11,11,13,5,5,15]\n",
    "\n",
    "stats.friedmanchisquare(hafta1, hafta2, hafta3, hafta4)\n",
    "\n"
   ]
  },
  {
   "cell_type": "markdown",
   "id": "69fd8ee3",
   "metadata": {},
   "source": [
    "# Mann Kendall Testi "
   ]
  },
  {
   "cell_type": "code",
   "execution_count": 5,
   "id": "725f017e",
   "metadata": {},
   "outputs": [
    {
     "name": "stdout",
     "output_type": "stream",
     "text": [
      "Kendall Tau Korelasyonu: 0.909090909090909\n",
      "p-değeri: 1.4655483405483405e-06\n"
     ]
    }
   ],
   "source": [
    "from scipy.stats import kendalltau\n",
    "\n",
    "time = [1, 2, 3, 4, 5, 6, 7, 8, 9, 10, 11, 12]\n",
    "values = [20.4275, 19.9634, 20.7656, 21.4309, 22.2282, 28.4163, 29.5873, 28.8915, 28.9317, 29.9039, 31.4084, 32.5660]\n",
    "\n",
    "correlation, p_value = kendalltau(time, values)\n",
    "print(\"Kendall Tau Korelasyonu:\", correlation)\n",
    "print(\"p-değeri:\", p_value)\n"
   ]
  },
  {
   "cell_type": "code",
   "execution_count": null,
   "id": "f1ab9832",
   "metadata": {},
   "outputs": [],
   "source": []
  }
 ],
 "metadata": {
  "kernelspec": {
   "display_name": "Python 3 (ipykernel)",
   "language": "python",
   "name": "python3"
  },
  "language_info": {
   "codemirror_mode": {
    "name": "ipython",
    "version": 3
   },
   "file_extension": ".py",
   "mimetype": "text/x-python",
   "name": "python",
   "nbconvert_exporter": "python",
   "pygments_lexer": "ipython3",
   "version": "3.9.12"
  }
 },
 "nbformat": 4,
 "nbformat_minor": 5
}
