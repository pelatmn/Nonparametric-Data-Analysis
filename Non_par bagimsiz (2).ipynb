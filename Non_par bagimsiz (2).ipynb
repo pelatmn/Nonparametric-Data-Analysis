{
 "cells": [
  {
   "cell_type": "code",
   "execution_count": 7,
   "id": "13618ae4",
   "metadata": {},
   "outputs": [],
   "source": [
    "import numpy as np\n",
    "import pandas as pd\n",
    "\n",
    "veri = pd.read_excel(r'C:\\Users\\x\\Desktop\\nonpar bagimsiz2.xlsx')"
   ]
  },
  {
   "cell_type": "code",
   "execution_count": 8,
   "id": "ea2ffcf1",
   "metadata": {
    "scrolled": true
   },
   "outputs": [
    {
     "name": "stdout",
     "output_type": "stream",
     "text": [
      "    Kişi Sayısı Tedavi Yöntemi  Güç Kazanımı\n",
      "0             1       Tedavi 1             7\n",
      "1             2       Tedavi 1             2\n",
      "2             3       Tedavi 1             4\n",
      "3             4       Tedavi 1            11\n",
      "4             5       Tedavi 1            15\n",
      "5             6       Tedavi 2            13\n",
      "6             7       Tedavi 2             1\n",
      "7             8       Tedavi 2             7\n",
      "8             9       Tedavi 2             8\n",
      "9            10       Tedavi 2             3\n",
      "10           11       Tedavi 3            12\n",
      "11           12       Tedavi 3             5\n",
      "12           13       Tedavi 3            42\n",
      "13           14       Tedavi 3             9\n",
      "14           15       Tedavi 3            14\n"
     ]
    }
   ],
   "source": [
    "print(veri)"
   ]
  },
  {
   "cell_type": "code",
   "execution_count": 9,
   "id": "97fa0d31",
   "metadata": {},
   "outputs": [
    {
     "data": {
      "text/plain": [
       "0.8290131092071533"
      ]
     },
     "execution_count": 9,
     "metadata": {},
     "output_type": "execute_result"
    }
   ],
   "source": [
    "from scipy import stats\n",
    "tedavi_1 =veri['Güç Kazanımı'][veri['Tedavi Yöntemi'] == 'Tedavi 1']\n",
    "shapiro_test = stats.shapiro(tedavi_1)\n",
    "shapiro_test.pvalue"
   ]
  },
  {
   "cell_type": "code",
   "execution_count": 10,
   "id": "ade332e3",
   "metadata": {},
   "outputs": [
    {
     "data": {
      "text/plain": [
       "0.8553206324577332"
      ]
     },
     "execution_count": 10,
     "metadata": {},
     "output_type": "execute_result"
    }
   ],
   "source": [
    "from scipy import stats\n",
    "tedavi_2 =veri['Güç Kazanımı'][veri['Tedavi Yöntemi'] == 'Tedavi 2']\n",
    "shapiro_test = stats.shapiro(tedavi_2)\n",
    "shapiro_test.pvalue"
   ]
  },
  {
   "cell_type": "code",
   "execution_count": 11,
   "id": "2ed4b008",
   "metadata": {},
   "outputs": [
    {
     "data": {
      "text/plain": [
       "0.04444027692079544"
      ]
     },
     "execution_count": 11,
     "metadata": {},
     "output_type": "execute_result"
    }
   ],
   "source": [
    "from scipy import stats\n",
    "tedavi_3 =veri['Güç Kazanımı'][veri['Tedavi Yöntemi'] == 'Tedavi 3']\n",
    "shapiro_test = stats.shapiro(tedavi_3)\n",
    "shapiro_test.pvalue\n"
   ]
  },
  {
   "cell_type": "code",
   "execution_count": 12,
   "id": "1ced5432",
   "metadata": {},
   "outputs": [
    {
     "data": {
      "text/plain": [
       "count    15.000000\n",
       "mean     10.200000\n",
       "std       9.843054\n",
       "min       1.000000\n",
       "25%       4.500000\n",
       "50%       8.000000\n",
       "75%      12.500000\n",
       "max      42.000000\n",
       "Name: Güç Kazanımı, dtype: float64"
      ]
     },
     "execution_count": 12,
     "metadata": {},
     "output_type": "execute_result"
    }
   ],
   "source": [
    "veri.head()\n",
    "\n",
    "veri['Güç Kazanımı'].describe()\n"
   ]
  },
  {
   "cell_type": "code",
   "execution_count": 13,
   "id": "4e22d5d7",
   "metadata": {},
   "outputs": [
    {
     "data": {
      "text/plain": [
       "96.88571428571429"
      ]
     },
     "execution_count": 13,
     "metadata": {},
     "output_type": "execute_result"
    }
   ],
   "source": [
    "import statistics\n",
    "veri2 =veri['Güç Kazanımı']\n",
    "statistics.variance(veri2)"
   ]
  },
  {
   "cell_type": "code",
   "execution_count": 14,
   "id": "dfbf9e74",
   "metadata": {},
   "outputs": [
    {
     "data": {
      "text/plain": [
       "(0.29816839608631696, -1.3167967782715795)"
      ]
     },
     "execution_count": 14,
     "metadata": {},
     "output_type": "execute_result"
    }
   ],
   "source": [
    "from scipy import stats\n",
    "veritedavi_1 =np.array([7,2,4,11,15])\n",
    "stats.skew(veritedavi_1) , stats.kurtosis(veritedavi_1)"
   ]
  },
  {
   "cell_type": "code",
   "execution_count": 15,
   "id": "a54de39d",
   "metadata": {},
   "outputs": [
    {
     "data": {
      "text/plain": [
       "(0.2609856942299833, -1.1008963891928287)"
      ]
     },
     "execution_count": 15,
     "metadata": {},
     "output_type": "execute_result"
    }
   ],
   "source": [
    "veritedavi_2 =np.array([13,1,7,8,3])\n",
    "stats.skew(veritedavi_2) , stats.kurtosis(veritedavi_2)"
   ]
  },
  {
   "cell_type": "code",
   "execution_count": 16,
   "id": "ad3bb83b",
   "metadata": {},
   "outputs": [
    {
     "data": {
      "text/plain": [
       "(1.2996328859290875, 0.004343956453351616)"
      ]
     },
     "execution_count": 16,
     "metadata": {},
     "output_type": "execute_result"
    }
   ],
   "source": [
    "veritedavi_3 =np.array([12,5,42,9,14])\n",
    "stats.skew(veritedavi_3) , stats.kurtosis(veritedavi_3)"
   ]
  },
  {
   "cell_type": "code",
   "execution_count": 11,
   "id": "76508d95",
   "metadata": {},
   "outputs": [
    {
     "data": {
      "image/png": "[encoded data removed]",
      "text/plain": [
       "<Figure size 432x288 with 1 Axes>"
      ]
     },
     "metadata": {
      "needs_background": "light"
     },
     "output_type": "display_data"
    }
   ],
   "source": [
    "import pylab\n",
    "from scipy import stats \n",
    "\n",
    "veri = np.array([7,2,4,11,15])\n",
    "stats.probplot(veri, dist=\"norm\", plot=pylab)\n",
    "pylab.show()"
   ]
  },
  {
   "cell_type": "code",
   "execution_count": 12,
   "id": "79b20aea",
   "metadata": {},
   "outputs": [
    {
     "data": {
      "image/png": "[encoded data removed]",
      "text/plain": [
       "<Figure size 432x288 with 1 Axes>"
      ]
     },
     "metadata": {
      "needs_background": "light"
     },
     "output_type": "display_data"
    }
   ],
   "source": [
    "import pylab\n",
    "from scipy import stats \n",
    "\n",
    "veri = np.array([13,1,7,8,3])\n",
    "stats.probplot(veri, dist=\"norm\", plot=pylab)\n",
    "pylab.show()"
   ]
  },
  {
   "cell_type": "code",
   "execution_count": 13,
   "id": "0125f03f",
   "metadata": {},
   "outputs": [
    {
     "data": {
      "image/png": "[encoded data removed]",
      "text/plain": [
       "<Figure size 432x288 with 1 Axes>"
      ]
     },
     "metadata": {
      "needs_background": "light"
     },
     "output_type": "display_data"
    }
   ],
   "source": [
    "import pylab\n",
    "from scipy import stats \n",
    "\n",
    "veri = np.array([12,5,42,9,14])\n",
    "stats.probplot(veri, dist=\"norm\", plot=pylab)\n",
    "pylab.show()"
   ]
  },
  {
   "cell_type": "code",
   "execution_count": 14,
   "id": "032ba7e2",
   "metadata": {},
   "outputs": [
    {
     "data": {
      "image/png": "[encoded data removed]",
      "text/plain": [
       "<Figure size 432x288 with 1 Axes>"
      ]
     },
     "metadata": {
      "needs_background": "light"
     },
     "output_type": "display_data"
    }
   ],
   "source": [
    "import numpy as np\n",
    "import matplotlib.pyplot as plt\n",
    "\n",
    "plt.hist(tedavi_1, bins=10, color='purple', edgecolor='black')\n",
    "\n",
    "plt.title('Histogram Grafiği')\n",
    "plt.xlabel('Değerler')\n",
    "plt.ylabel('Frekans')\n",
    "\n",
    "plt.show()"
   ]
  },
  {
   "cell_type": "code",
   "execution_count": 15,
   "id": "03c6d8d1",
   "metadata": {},
   "outputs": [
    {
     "data": {
      "image/png": "[encoded data removed]",
      "text/plain": [
       "<Figure size 432x288 with 1 Axes>"
      ]
     },
     "metadata": {
      "needs_background": "light"
     },
     "output_type": "display_data"
    }
   ],
   "source": [
    "import numpy as np\n",
    "import matplotlib.pyplot as plt\n",
    "\n",
    "plt.hist(tedavi_2, bins=10, color='purple', edgecolor='black')\n",
    "\n",
    "plt.title('Histogram Grafiği')\n",
    "plt.xlabel('Değerler')\n",
    "plt.ylabel('Frekans')\n",
    "\n",
    "plt.show()"
   ]
  },
  {
   "cell_type": "code",
   "execution_count": 16,
   "id": "b8966e5e",
   "metadata": {
    "scrolled": true
   },
   "outputs": [
    {
     "data": {
      "image/png": "[encoded data removed]",
      "text/plain": [
       "<Figure size 432x288 with 1 Axes>"
      ]
     },
     "metadata": {
      "needs_background": "light"
     },
     "output_type": "display_data"
    }
   ],
   "source": [
    "import numpy as np\n",
    "import matplotlib.pyplot as plt\n",
    "\n",
    "plt.hist(tedavi_3, bins=10, color='purple', edgecolor='black')\n",
    "\n",
    "plt.title('Histogram Grafiği')\n",
    "plt.xlabel('Değerler')\n",
    "plt.ylabel('Frekans')\n",
    "\n",
    "plt.show()"
   ]
  },
  {
   "cell_type": "markdown",
   "id": "122f1dba",
   "metadata": {},
   "source": [
    "# Boxplot grafiği"
   ]
  },
  {
   "cell_type": "code",
   "execution_count": 17,
   "id": "70d78b8c",
   "metadata": {},
   "outputs": [
    {
     "data": {
      "image/png": "[encoded data removed]",
      "text/plain": [
       "<Figure size 720x360 with 1 Axes>"
      ]
     },
     "metadata": {
      "needs_background": "light"
     },
     "output_type": "display_data"
    }
   ],
   "source": [
    "veri = [tedavi_1 ,tedavi_2, tedavi_3]\n",
    "figure = plt.figure(figsize=(10,5))\n",
    "plt.boxplot(veri)\n",
    "plt.title('Tüm Verilerin Box-plot Grafiği')\n",
    "plt.xlabel('Veriler')\n",
    "plt.ylabel('Frekans')\n",
    "plt.show()"
   ]
  },
  {
   "cell_type": "markdown",
   "id": "042a3f1a",
   "metadata": {},
   "source": [
    "# 3.SORU"
   ]
  },
  {
   "cell_type": "code",
   "execution_count": 20,
   "id": "1fabe66f",
   "metadata": {},
   "outputs": [
    {
     "data": {
      "text/plain": [
       "BinomTestResult(k=3, n=4, alternative='greater', proportion_estimate=0.75, pvalue=0.3125)"
      ]
     },
     "execution_count": 20,
     "metadata": {},
     "output_type": "execute_result"
    }
   ],
   "source": [
    "import numpy as np\n",
    "from scipy.stats import binomtest\n",
    "\n",
    "veri = np.array([12,5,42,9,14])\n",
    "median_ = 9\n",
    "\n",
    "nPlus = len(veri[veri > median_])\n",
    "nNeg = len(veri[veri < median_])\n",
    "\n",
    "n = nPlus + nNeg\n",
    "\n",
    "binomtest(nPlus, n, p=0.5 , alternative = 'greater')"
   ]
  },
  {
   "cell_type": "code",
   "execution_count": 21,
   "id": "88b511a7",
   "metadata": {},
   "outputs": [
    {
     "data": {
      "text/plain": [
       "WilcoxonResult(statistic=11.5, pvalue=0.17261553588592)"
      ]
     },
     "execution_count": 21,
     "metadata": {},
     "output_type": "execute_result"
    }
   ],
   "source": [
    "from scipy.stats import wilcoxon\n",
    "import numpy as np\n",
    "\n",
    "veri = np.array([12,5,42,9,14])\n",
    "med0 = 9\n",
    "\n",
    "wilcoxon(veri - med0, alternative='greater', zero_method='zsplit', correction=True)\n"
   ]
  },
  {
   "cell_type": "markdown",
   "id": "aed76b05",
   "metadata": {},
   "source": [
    "# 4.SORU"
   ]
  },
  {
   "cell_type": "code",
   "execution_count": 24,
   "id": "ac1c6d2e",
   "metadata": {},
   "outputs": [
    {
     "name": "stdout",
     "output_type": "stream",
     "text": [
      "MannwhitneyuResult(statistic=7.0, pvalue=0.15476190476190477)\n"
     ]
    }
   ],
   "source": [
    "import numpy as np\n",
    "from scipy import stats\n",
    "\n",
    "tedavi_1 = np.array([7, 2, 4, 11, 15])\n",
    "tedavi_3 = np.array([12, 5, 42, 9, 14])\n",
    "\n",
    "result = stats.mannwhitneyu(tedavi_1, tedavi_3, alternative='less')\n",
    "print(result)\n"
   ]
  },
  {
   "cell_type": "markdown",
   "id": "064efb72",
   "metadata": {},
   "source": [
    "# 6.SORU"
   ]
  },
  {
   "cell_type": "code",
   "execution_count": 25,
   "id": "a631b489",
   "metadata": {},
   "outputs": [
    {
     "data": {
      "text/plain": [
       "KruskalResult(statistic=2.719856887298751, pvalue=0.2566791433192103)"
      ]
     },
     "execution_count": 25,
     "metadata": {},
     "output_type": "execute_result"
    }
   ],
   "source": [
    "import numpy as np\n",
    "from scipy import stats\n",
    "\n",
    "tedavi_1 = np.array([7,2,4,11,15])\n",
    "tedavi_2 = np.array([13,1,7,8,3])\n",
    "tedavi_3 = np.array([12,5,42,9,14])\n",
    "\n",
    "stats.kruskal(tedavi_1 , tedavi_2 , tedavi_3)"
   ]
  },
  {
   "cell_type": "code",
   "execution_count": null,
   "id": "2f33540e",
   "metadata": {},
   "outputs": [],
   "source": []
  }
 ],
 "metadata": {
  "kernelspec": {
   "display_name": "Python 3 (ipykernel)",
   "language": "python",
   "name": "python3"
  },
  "language_info": {
   "codemirror_mode": {
    "name": "ipython",
    "version": 3
   },
   "file_extension": ".py",
   "mimetype": "text/x-python",
   "name": "python",
   "nbconvert_exporter": "python",
   "pygments_lexer": "ipython3",
   "version": "3.9.12"
  }
 },
 "nbformat": 4,
 "nbformat_minor": 5
}
